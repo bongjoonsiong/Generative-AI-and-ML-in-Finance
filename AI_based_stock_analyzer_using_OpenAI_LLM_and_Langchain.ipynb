{
  "nbformat": 4,
  "nbformat_minor": 0,
  "metadata": {
    "colab": {
      "provenance": [],
      "authorship_tag": "ABX9TyMa2IdWdDRetWydq07m80HK",
      "include_colab_link": true
    },
    "kernelspec": {
      "name": "python3",
      "display_name": "Python 3"
    },
    "language_info": {
      "name": "python"
    }
  },
  "cells": [
    {
      "cell_type": "markdown",
      "metadata": {
        "id": "view-in-github",
        "colab_type": "text"
      },
      "source": [
        "<a href=\"https://colab.research.google.com/github/bongjoonsiong/Generative-AI-and-ML-in-Finance/blob/main/AI_based_stock_analyzer_using_OpenAI_LLM_and_Langchain.ipynb\" target=\"_parent\"><img src=\"https://colab.research.google.com/assets/colab-badge.svg\" alt=\"Open In Colab\"/></a>"
      ]
    },
    {
      "cell_type": "markdown",
      "source": [
        "\n",
        "## Using LLM & Langchain to build a Stock Analyzer\n",
        "I'm certain you've come across these recent buzzwords: AI, LLMs, GPT, Langchain. These technologies are incredibly valuable and transformative, offering limitless applications. In this project, I endeavored to create a compelling application utilizing Language Models and Langchain within the Finance domain."
      ],
      "metadata": {
        "id": "_sfQe4oXZPvv"
      }
    },
    {
      "cell_type": "markdown",
      "source": [
        "*An artificial intelligence bot designed to assist with stock investments by leveraging advanced language models to analyze both real-time and historical stock-related information.*"
      ],
      "metadata": {
        "id": "6IUsYzwFZfR4"
      }
    },
    {
      "cell_type": "markdown",
      "source": [
        "## Rational of AI Stock Analyzer\n",
        "A Langchian and LLM-based bot that can take real-time as well as historic data to make investment analysis.\n",
        "\n",
        "The concept is to fetch the real time and historic data from Yahoo Finance that includes the following:\n",
        "\n",
        "1. Historic Stock price data.\n",
        "\n",
        "2. Company’s financial statement\n",
        "\n",
        "3. Latest company related news\n",
        "\n",
        "LLM will do a fundamental analysis on a particular stock that prompted by the AI Stock Analyzer, based on the information ingested from Yahoo Finance."
      ],
      "metadata": {
        "id": "kLzZS-tKZrpV"
      }
    },
    {
      "cell_type": "markdown",
      "source": [
        "## Main Code"
      ],
      "metadata": {
        "id": "6BkaEPQ5aZlY"
      }
    },
    {
      "cell_type": "code",
      "source": [
        "#Import All Required Library\n",
        "from bs4 import BeautifulSoup\n",
        "import requests\n",
        "import yfinance as yf"
      ],
      "metadata": {
        "id": "A7BSPX10big2"
      },
      "execution_count": null,
      "outputs": []
    },
    {
      "cell_type": "markdown",
      "source": [
        "## Create Helpers Functions"
      ],
      "metadata": {
        "id": "EuEVVs87b_Hf"
      }
    },
    {
      "cell_type": "code",
      "source": [
        "# Fetch stock data from Yahoo Finance\n",
        "def get_stock_price(ticker,history=5):\n",
        "    # time.sleep(4) #To avoid rate limit error\n",
        "    if \".\" in ticker:\n",
        "        ticker=ticker.split(\".\")[0]\n",
        "    ticker=ticker+\".NS\"\n",
        "    stock = yf.Ticker(ticker)\n",
        "    df = stock.history(period=\"1y\")\n",
        "    df=df[[\"Close\",\"Volume\"]]\n",
        "    df.index=[str(x).split()[0] for x in list(df.index)]\n",
        "    df.index.rename(\"Date\",inplace=True)\n",
        "    df=df[-history:]\n",
        "    # print(df.columns)\n",
        "\n",
        "    return df.to_string()\n",
        "\n",
        "# Script to scrap top5 google news for given company name\n",
        "def google_query(search_term):\n",
        "    if \"news\" not in search_term:\n",
        "        search_term=search_term+\" stock news\"\n",
        "    url=f\"https://www.google.com/search?q={search_term}&cr=countryIN\"\n",
        "    url=re.sub(r\"\\s\",\"+\",url)\n",
        "    return url\n",
        "\n",
        "def get_recent_stock_news(company_name):\n",
        "    # time.sleep(4) #To avoid rate limit error\n",
        "    headers={'User-Agent': 'Mozilla/5.0 (Windows NT 10.0; Win64; x64) AppleWebKit/537.36 (KHTML, like Gecko) Chrome/102.0.0.0 Safari/537.36'}\n",
        "\n",
        "    g_query=google_query(company_name)\n",
        "    res=requests.get(g_query,headers=headers).text\n",
        "    soup=BeautifulSoup(res,\"html.parser\")\n",
        "    news=[]\n",
        "    for n in soup.find_all(\"div\",\"n0jPhd ynAwRc tNxQIb nDgy9d\"):\n",
        "        news.append(n.text)\n",
        "    for n in soup.find_all(\"div\",\"IJl0Z\"):\n",
        "        news.append(n.text)\n",
        "\n",
        "    if len(news)>6:\n",
        "        news=news[:4]\n",
        "    else:\n",
        "        news=news\n",
        "    news_string=\"\"\n",
        "    for i,n in enumerate(news):\n",
        "        news_string+=f\"{i}. {n}\\n\"\n",
        "    top5_news=\"Recent News:\\n\\n\"+news_string\n",
        "\n",
        "    return top5_news\n",
        "\n",
        "\n",
        "# Fetch financial statements from Yahoo Finance\n",
        "def get_financial_statements(ticker):\n",
        "    # time.sleep(4) #To avoid rate limit error\n",
        "    if \".\" in ticker:\n",
        "        ticker=ticker.split(\".\")[0]\n",
        "    else:\n",
        "        ticker=ticker\n",
        "    ticker=ticker+\".NS\"\n",
        "    company = yf.Ticker(ticker)\n",
        "    balance_sheet = company.balance_sheet\n",
        "    if balance_sheet.shape[1]>=3:\n",
        "        balance_sheet=balance_sheet.iloc[:,:3]    # Remove 4th years data\n",
        "    balance_sheet=balance_sheet.dropna(how=\"any\")\n",
        "    balance_sheet = balance_sheet.to_string()\n",
        "    return balance_sheet"
      ],
      "metadata": {
        "id": "s0pJeYs6byHL"
      },
      "execution_count": null,
      "outputs": []
    },
    {
      "cell_type": "markdown",
      "source": [
        "## Approach 1:\n",
        "Agents in Langhian are basically something that is responsible for the decision making. I used zeroshot ReaAct agent, which stands for resposnce and action, it basically continuously thinks and takes action based on the thought. The problem with this approach is that it get stuck with infinite loop of thought and action as the end goal of stock analysis seems complicated for it and it cannot confidently decide the next action resulting in an endless loop or bad results that are not much related to input query.\n",
        "\n",
        "Lets look into the code-"
      ],
      "metadata": {
        "id": "1lfrMKmxe-Lr"
      }
    },
    {
      "cell_type": "code",
      "source": [
        "!pip install langchain -q\n",
        "!pip install duckduckgo-search\n",
        "print(\"done\")"
      ],
      "metadata": {
        "id": "1m55iRKViggD"
      },
      "execution_count": null,
      "outputs": []
    },
    {
      "cell_type": "code",
      "source": [
        "from langchain.tools import Tool, DuckDuckGoSearchRun\n",
        "search=DuckDuckGoSearchRun()\n",
        "\n",
        "# Making tool list\n",
        "\n",
        "tools=[\n",
        "    Tool(\n",
        "        name=\"get stock data\",\n",
        "        func=get_stock_price,\n",
        "        description=\"Use when you are asked to evaluate or analyze a stock. This will output historic share price data. You should input the the stock ticker to it \"\n",
        "    ),\n",
        "    Tool(\n",
        "        name=\"DuckDuckGo Search\",\n",
        "        func=search.run,\n",
        "        description=\"Use only when you need to get NSE/BSE stock ticker from internet, you can also get recent stock related news. Dont use it for any other analysis or task\"\n",
        "    ),\n",
        "    Tool(\n",
        "        name=\"get recent news\",\n",
        "        func=get_recent_stock_news,\n",
        "        description=\"Use this to fetch recent news about stocks\"\n",
        "    ),\n",
        "\n",
        "    Tool(\n",
        "        name=\"get financial statements\",\n",
        "        func=get_financial_statements,\n",
        "        description=\"Use this to get financial statement of the company. With the help of this data companys historic performance can be evaluaated. You should input stock ticker to it\"\n",
        "    )\n",
        "]\n",
        "\n",
        "from langchain.agents import initialize_agent\n",
        "\n",
        "\n",
        "# new_prompt=\"<Plz refere github repo>\"\n",
        "# zero_shot_agent.agent.llm_chain.prompt.template=new_prompt\n",
        "\n",
        "zero_shot_agent=initialize_agent(\n",
        "    llm=llm,\n",
        "    agent=\"zero-shot-react-description\",\n",
        "    tools=tools,\n",
        "    verbose=True,\n",
        "    max_iteration=4,\n",
        "    return_intermediate_steps=True,\n",
        "    handle_parsing_errors=True\n",
        ")\n",
        "\n",
        "zero_shot_agent(\"Is Bajaj Finance a good investment choice right now?\")\n"
      ],
      "metadata": {
        "id": "NUX7eBa-fDjR"
      },
      "execution_count": null,
      "outputs": []
    },
    {
      "cell_type": "markdown",
      "source": [
        "Note this code is a continuation of what we have discussed before. Here we are just converting the data scrapping functions into langchain tools and making a list so that it becomes accessible for the agent. In the later part an agent is being defined with initialize_agent class. It takes llm, tool list, agent type as arguments. The output of this approach seems okayish. This approach may work or may not, Further improvements can be made by modifying the prompt"
      ],
      "metadata": {
        "id": "C28SgAtafLEX"
      }
    },
    {
      "cell_type": "markdown",
      "source": [
        "## Approach2-\n",
        "Stock analysis being a complicated task, the ReAct agent was not able to decide proper steps. So in this approach I tried defining the steps before the analysis itself. First all the data is fetched and then feeded into llm for comprehensive analysis."
      ],
      "metadata": {
        "id": "oBVwvVCWfUW7"
      }
    },
    {
      "cell_type": "markdown",
      "source": [
        "# Using OpenAI Funcion"
      ],
      "metadata": {
        "id": "gIUfWXonfc6n"
      }
    },
    {
      "cell_type": "code",
      "source": [
        "!pip install --upgrade openai\n"
      ],
      "metadata": {
        "id": "mmUeQ2UakvHF"
      },
      "execution_count": null,
      "outputs": []
    },
    {
      "cell_type": "code",
      "source": [
        "#Openai function calling\n",
        "\n",
        "import json\n",
        "import openai\n",
        "\n",
        "#Below code is from STACKOVERFLOW to resolve openai 0.28 version issue\n",
        "import os\n",
        "from openai import OpenAI\n",
        "\n",
        "# End of Stack Overflow solution..\n",
        "\n",
        "function=[\n",
        "        {\n",
        "        \"name\": \"get_company_Stock_ticker\",\n",
        "        \"description\": \"This will get the indian NSE/BSE stock ticker of the company\",\n",
        "        \"parameters\": {\n",
        "            \"type\": \"object\",\n",
        "            \"properties\": {\n",
        "                \"ticker_symbol\": {\n",
        "                    \"type\": \"string\",\n",
        "                    \"description\": \"This is the stock symbol of the company.\",\n",
        "                },\n",
        "\n",
        "                \"company_name\": {\n",
        "                    \"type\": \"string\",\n",
        "                    \"description\": \"This is the name of the company given in query\",\n",
        "                }\n",
        "            },\n",
        "            \"required\": [\"company_name\",\"ticker_symbol\"],\n",
        "        },\n",
        "    }\n",
        "]\n",
        "\n",
        "print(f\"Will start main section next\")"
      ],
      "metadata": {
        "id": "4bxaN81ffgtr"
      },
      "execution_count": null,
      "outputs": []
    },
    {
      "cell_type": "markdown",
      "source": [
        "# Main Code"
      ],
      "metadata": {
        "id": "zyqkOjyjfnWX"
      }
    },
    {
      "cell_type": "code",
      "source": [
        "!openai migrate"
      ],
      "metadata": {
        "id": "ZU0IFusHmDQ5"
      },
      "execution_count": null,
      "outputs": []
    },
    {
      "cell_type": "code",
      "source": [
        "\n",
        "def get_stock_ticker(query):\n",
        "    response = OpenAi.ChatCompletion.create(\n",
        "            model=\"gpt-3.5-turbo\",\n",
        "            temperature=0,\n",
        "            messages=[{\n",
        "                \"role\":\"user\",\n",
        "                \"content\":f\"Given the user request, what is the comapany name and the company stock ticker ?: {query}?\"\n",
        "            }],\n",
        "            functions=function,\n",
        "            function_call={\"name\": \"get_company_Stock_ticker\"},\n",
        "    )\n",
        "    message = response[\"choices\"][0][\"message\"]\n",
        "    arguments = json.loads(message[\"function_call\"][\"arguments\"])\n",
        "    company_name = arguments[\"company_name\"]\n",
        "    company_ticker = arguments[\"ticker_symbol\"]\n",
        "    return company_name,company_ticker\n",
        "\n",
        "def Anazlyze_stock(query):\n",
        "    #agent.run(query) Outputs Company name, Ticker\n",
        "    Company_name,ticker=get_stock_ticker(query)\n",
        "    print({\"Query\":query,\"Company_name\":Company_name,\"Ticker\":ticker})\n",
        "    stock_data=get_stock_price(ticker,history=10)\n",
        "    stock_financials=get_financial_statements(ticker)\n",
        "    stock_news=get_recent_stock_news(Company_name)\n",
        "\n",
        "    # available_information=f\"Stock Price: {stock_data}\\n\\nStock Financials: {stock_financials}\\n\\nStock News: {stock_news}\"\n",
        "    available_information=f\"Stock Financials: {stock_financials}\\n\\nStock News: {stock_news}\"\n",
        "\n",
        "    print(\"\\n\\nAnalyzing.....\\n\")\n",
        "    analysis=llm(f\"Give detail stock analysis, Use the available data and provide investment recommendation. \\\n",
        "             The user is fully aware about the investment risk, dont include any kind of warning like 'It is recommended to conduct further research and analysis or consult with a financial advisor before making an investment decision' in the answer \\\n",
        "             User question: {query} \\\n",
        "             You have the following information available about {Company_name}. Write (5-8) pointwise investment analysis to answer user query, At the end conclude with proper explaination.Try to Give positives and negatives  : \\\n",
        "              {available_information} \"\n",
        "             )\n",
        "    print(analysis)\n",
        "\n",
        "    return analysis"
      ],
      "metadata": {
        "id": "iSTK2EHwfYlS"
      },
      "execution_count": null,
      "outputs": []
    },
    {
      "cell_type": "markdown",
      "source": [
        "Recently Open ai has introduced function call, which is really helpful with which we can get structured output as we want in json format from LLM. In this approach, the same is being used. First stock ticker is extracted with the help of function calls, As most of the later code was dependent on this single argument. React agent in approach 1 was failing in this step only, resulting in d eviation of all the future steps. Once stock ticker is extracted correctly, in the later stages stock data, news, and financial statements are simply fetched by inputting the ticker symbol. Once all the stock related information is available, it is then utilized by the LLM for the comprehensive stock analysis."
      ],
      "metadata": {
        "id": "BwIhnE0kfvwB"
      }
    },
    {
      "cell_type": "markdown",
      "source": [
        "# Eg- sample input and output of the bot-"
      ],
      "metadata": {
        "id": "0sWGlHIQf0xX"
      }
    },
    {
      "cell_type": "markdown",
      "source": [
        "Input"
      ],
      "metadata": {
        "id": "NTH9uDwZf5Mt"
      }
    },
    {
      "cell_type": "code",
      "source": [
        "!openai migrate"
      ],
      "metadata": {
        "id": "pbx0v7R7mTlm"
      },
      "execution_count": null,
      "outputs": []
    },
    {
      "cell_type": "code",
      "source": [
        "Anazlyze_stock(\"Is it a good time to invest in Yes Bank?\")\n",
        "\n"
      ],
      "metadata": {
        "id": "MonXQpIXf9rF"
      },
      "execution_count": null,
      "outputs": []
    },
    {
      "cell_type": "markdown",
      "source": [
        "#Output:\n",
        "'Query': 'Is it a good time to invest in Yes Bank?', 'Company_name': 'Yes Bank', 'Ticker': 'YESBANK'\n",
        "Analyzing..... *italicized text*\n",
        "\n",
        "**Investment Thesis for Yes Bank:**\n",
        "1. Financial Performance: Yes Bank has shown improvement in its financials over the past three years. The net debt has increased, indicating higher borrowing, but the tangible book value and common stock equity have also increased, suggesting a stronger financial position.\n",
        "2. Total Capitalization: The total capitalization of Yes Bank has been consistently increasing, indicating a growing investor base and potential for future growth. This can be seen as a positive sign for investors considering investing in the bank.\n",
        "3. Total Assets: Yes Bank's total assets have also been increasing steadily, indicating the bank's ability to attract and manage a larger pool of assets. This growth in assets can contribute to the bank's profitability and potential for future expansion.\n",
        "4. Stock News: Recent news about Yes Bank suggests that the stock has seen a marginal increase in price and has been holding steady. This stability in the stock price can be seen as a positive sign for investors, indicating a potential for future growth.\n",
        "5. Weak Underlying Business: However, it is important to note that there are concerns about the bank's weak underlying business, as indicated by the soft quarter expected in Q1. This may lead to a decline in profitability, which could impact the stock price in the short term.\n",
        "6. Overall Market Conditions: It is also important to consider the overall market conditions and the banking sector as a whole before making an investment decision. Factors such as economic conditions, regulatory changes, and competition can significantly impact the performance of Yes Bank and its stock price.\n",
        "Based on the available data and information, it can be concluded that investing in Yes Bank at this time carries"
      ],
      "metadata": {
        "id": "-K9_zZYYgBU9"
      }
    },
    {
      "cell_type": "markdown",
      "source": [
        "## Further improvemetns that can be done-\n",
        "a) More tools can be added. Fo eg. math tool to perform complex technical analysis\n",
        "b) More robust prompting for stable output\n",
        "c) Support of other opensource LLMS\n",
        "Note- Its a fun hobby project, I am not a finance expert, feel free to add any suggestions/ moodification"
      ],
      "metadata": {
        "id": "_Ck2mCH4gRUV"
      }
    },
    {
      "cell_type": "markdown",
      "source": [],
      "metadata": {
        "id": "y3uuZJpagTlG"
      }
    }
  ]
}